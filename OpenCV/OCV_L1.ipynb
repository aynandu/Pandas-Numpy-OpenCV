{
 "cells": [
  {
   "cell_type": "markdown",
   "metadata": {},
   "source": [
    "# OpencCV \n",
    "##### freecodecamp.org : https://www.youtube.com/watch?v=oXlwWbU8l2o&t=72s\n",
    "##### Github link : https://github.com/jasmcaus/opencv-course\n",
    "##### The Caer Visiob library :  https://github.com/jasmcaus/caer\n",
    " pip install opencv-contrib-python\n",
    "# ⭐️ Course Contents ⭐️\n",
    "##### ⌨️ (0:00:00) Introduction\n",
    "##### ⌨️ (0:01:07) Installing OpenCV and Caer\n",
    "#### Section #1 - Basics\n",
    "##### ⌨️ (0:04:12) Reading Images & Video\n",
    "##### ⌨️ (0:12:57) Resizing and Rescaling Frames\n",
    "##### ⌨️ (0:20:21) Drawing Shapes & Putting Text\n",
    "##### ⌨️ (0:31:55) 5 Essential Functions in OpenCV\n",
    "##### ⌨️ (0:44:13) Image Transformations\n",
    "##### ⌨️ (0:57:06) Contour Detection\n",
    "#### Section #2 - Advanced\n",
    "##### ⌨️ (1:12:53) Color Spaces\n",
    "##### ⌨️ (1:23:10) Color Channels\n",
    "##### ⌨️ (1:31:03) Blurring\n",
    "##### ⌨️ (1:44:27) BITWISE operations\n",
    "##### ⌨️ (1:53:06) Masking\n",
    "##### ⌨️ (2:01:43) Histogram Computation\n",
    "##### ⌨️ (2:15:22) Thresholding/Binarizing Images\n",
    "##### ⌨️ (2:26:27) Edge Detection\n",
    "#### Section #3 - Faces:\n",
    "##### ⌨️ (2:35:25) Face Detection with Haar Cascades\n",
    "##### ⌨️ (2:49:05) Face Recognition with OpenCV's built-in recognizer\n",
    "#### Section #4 - Capstone\n",
    "##### ⌨️ (3:11:57) Deep Computer Vision: The Simpsons"
   ]
  },
  {
   "cell_type": "code",
   "execution_count": null,
   "metadata": {},
   "outputs": [],
   "source": []
  }
 ],
 "metadata": {
  "language_info": {
   "name": "python"
  },
  "orig_nbformat": 4
 },
 "nbformat": 4,
 "nbformat_minor": 2
}
