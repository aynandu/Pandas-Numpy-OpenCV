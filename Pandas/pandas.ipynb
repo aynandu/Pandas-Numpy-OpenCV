{
 "cells": [
  {
   "cell_type": "markdown",
   "metadata": {},
   "source": [
    "# Read / Write Data to Different Sources - Excel,Json,SQL etc\n",
    "#### https://www.youtube.com/watch?v=N6hyN6BW6ao"
   ]
  },
  {
   "cell_type": "code",
   "execution_count": 1,
   "metadata": {},
   "outputs": [],
   "source": [
    "import pandas as pd"
   ]
  },
  {
   "cell_type": "code",
   "execution_count": 2,
   "metadata": {},
   "outputs": [],
   "source": [
    "df=pd.read_csv('C:/Users/nandu/Desktop/Pandas_Numpy_OpenCV/Data/DataSet/survey_results_public.csv',index_col='Respondent')\n",
    "schema_df=pd.read_csv('C:/Users/nandu/Desktop/Pandas_Numpy_OpenCV/Data/DataSet/survey_results_schema.csv',index_col='Column')"
   ]
  },
  {
   "cell_type": "code",
   "execution_count": 3,
   "metadata": {},
   "outputs": [],
   "source": [
    "pd.set_option('display.max_columns',85)\n",
    "pd.set_option('display.max_rows',85)"
   ]
  },
  {
   "cell_type": "code",
   "execution_count": null,
   "metadata": {},
   "outputs": [],
   "source": [
    "df.head()"
   ]
  },
  {
   "cell_type": "code",
   "execution_count": 7,
   "metadata": {},
   "outputs": [],
   "source": [
    "filt=(df['Country']=='India')\n",
    "india_df=df.loc[filt]"
   ]
  },
  {
   "cell_type": "code",
   "execution_count": 8,
   "metadata": {},
   "outputs": [],
   "source": [
    "#Export this new Filter into a CSV file\n",
    "india_df.to_csv('C:/Users/nandu/Desktop/Pandas_Numpy_OpenCV/Data/Modified.csv')\n"
   ]
  },
  {
   "cell_type": "code",
   "execution_count": 9,
   "metadata": {},
   "outputs": [],
   "source": [
    "#Sperated Contents\n",
    "india_df.to_csv('C:/Users/nandu/Desktop/Pandas_Numpy_OpenCV/Data/Modified.tsv',sep=\"\\t\")\n"
   ]
  },
  {
   "cell_type": "code",
   "execution_count": 16,
   "metadata": {},
   "outputs": [],
   "source": [
    "#Export this new Filter into a Excel file\n",
    "#before running install 'openpyxl' module\n",
    "india_df.to_excel('C:/Users/nandu/Desktop/Pandas_Numpy_OpenCV/Data/Modified.xlsx')"
   ]
  },
  {
   "cell_type": "code",
   "execution_count": 19,
   "metadata": {},
   "outputs": [],
   "source": [
    "# Read from Excel document\n",
    "test=pd.read_excel('C:/Users/nandu/Desktop/Pandas_Numpy_OpenCV/Data/Modified.xlsx',index_col='Respondent')"
   ]
  },
  {
   "cell_type": "code",
   "execution_count": 21,
   "metadata": {},
   "outputs": [],
   "source": [
    "#Export this new Filter into a JSON file\n",
    "india_df.to_json('C:/Users/nandu/Desktop/Pandas_Numpy_OpenCV/Data/Modified.json')"
   ]
  },
  {
   "cell_type": "code",
   "execution_count": 22,
   "metadata": {},
   "outputs": [],
   "source": [
    "india_df.to_json('C:/Users/nandu/Desktop/Pandas_Numpy_OpenCV/Data/Modified.json',orient='records',lines=True)"
   ]
  },
  {
   "cell_type": "code",
   "execution_count": null,
   "metadata": {},
   "outputs": [],
   "source": [
    "test = pd.read_json('C:/Users/nandu/Desktop/Pandas_Numpy_OpenCV/Data/Modified.json',orient='records',lines=True)\n",
    "test"
   ]
  },
  {
   "cell_type": "markdown",
   "metadata": {},
   "source": [
    "### ORM - object relational Mapper\n",
    "\n",
    "#### pip install SQLAlchemy\n",
    "\n",
    "### psycopg2-binary allow you to work with Postgres\n",
    "##### pip install psycopg2-binary"
   ]
  },
  {
   "cell_type": "code",
   "execution_count": 24,
   "metadata": {},
   "outputs": [],
   "source": [
    "from sqlalchemy import  create_engine  # connect to DB\n",
    "import psycopg2"
   ]
  },
  {
   "cell_type": "code",
   "execution_count": null,
   "metadata": {},
   "outputs": [],
   "source": []
  }
 ],
 "metadata": {
  "kernelspec": {
   "display_name": "Python 3",
   "language": "python",
   "name": "python3"
  },
  "language_info": {
   "codemirror_mode": {
    "name": "ipython",
    "version": 3
   },
   "file_extension": ".py",
   "mimetype": "text/x-python",
   "name": "python",
   "nbconvert_exporter": "python",
   "pygments_lexer": "ipython3",
   "version": "3.11.4"
  },
  "orig_nbformat": 4
 },
 "nbformat": 4,
 "nbformat_minor": 2
}
